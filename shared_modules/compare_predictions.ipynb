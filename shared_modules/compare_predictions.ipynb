{
 "cells": [
  {
   "cell_type": "code",
   "execution_count": 191,
   "metadata": {},
   "outputs": [
    {
     "name": "stdout",
     "output_type": "stream",
     "text": [
      "The autoreload extension is already loaded. To reload it, use:\n",
      "  %reload_ext autoreload\n"
     ]
    }
   ],
   "source": [
    "%load_ext autoreload\n",
    "%autoreload 2\n",
    "from monai.transforms import LoadImage, CenterSpatialCrop, Compose, SpatialPad\n",
    "from monai.data import DataLoader, Dataset\n",
    "import os\n",
    "from utils.plotting import slice_comparison\n",
    "import torch\n",
    "from monai.visualize.utils import blend_images\n",
    "\n",
    "idx = 5\n",
    "models = [\"UMambaBot\",\"UMambaBotMTL\", \"SwinUNETR\", \"SwinUNETRMTL\"]\n",
    "pred_paths = [f\"predictions/{model}/{case_id[idx]}/t2_pred.nii.gz\" for model in models]\n",
    "\n",
    "case_id = [name for name in os.listdir(\"predictions/UMambaBotMTL/\")]\n",
    "\n",
    "img_path = f\"predictions/UMambaBotMTL/{case_id[idx]}/t2_img.nii.gz\"\n",
    "label_path = f\"predictions/UMambaBotMTL/{case_id[idx]}/adc_tumor_reader1_gt.nii.gz\"\n",
    "# label_path = f\"predictions/UMambaBotMTL/{case_id[idx]}/empty_gt.nii.gz\"\n",
    "\n",
    "# pred_path = f\"predictions/{model}/{case_id[idx]}/t2/t2_trans.nii.gz\"\n",
    "# img_path = f\"/work/michaesl/prostate/advanced_computing_2024/data/prostate158/test/{case_id[idx]}/t2.nii.gz\"\n",
    "# label_path = f\"/work/michaesl/prostate/advanced_computing_2024/data/prostate158/test/{case_id[idx]}/adc_tumor_reader1.nii.gz\"\n",
    "\n",
    "\n",
    "trans = Compose(\n",
    "    [LoadImage(ensure_channel_first=True),\n",
    "     CenterSpatialCrop(roi_size=(224,224,20)),\n",
    "     SpatialPad(spatial_size=(224,224,20))\n",
    "     ]\n",
    ")\n",
    "\n",
    "preds = [trans(pred_path) for pred_path in pred_paths]\n",
    "img = trans(img_path)\n",
    "label = trans(label_path)\n",
    "\n"
   ]
  },
  {
   "cell_type": "code",
   "execution_count": 192,
   "metadata": {},
   "outputs": [],
   "source": [
    "def one_hot_to_label(one_hot_tensor, background_value=-1):\n",
    "    \"\"\"Converts a one-hot encoded tensor to a tensor of label values.\n",
    "\n",
    "    Args:\n",
    "        one_hot_tensor: A PyTorch tensor with shape [C, H, W, D].\n",
    "        background_value: The value to use for background pixels \n",
    "                          where no channel is active (default: -1).\n",
    "\n",
    "    Returns:\n",
    "        A PyTorch tensor with shape [H, W, D] containing label values, \n",
    "        including the value for channel 0.\n",
    "    \"\"\"\n",
    "    label_tensor = torch.argmax(one_hot_tensor, dim=0)\n",
    "    # Create a mask for background pixels (where no channel is 1)\n",
    "    background_mask = torch.all(one_hot_tensor == 0, dim=0)\n",
    "    # Set background pixels to the specified value\n",
    "    label_tensor[background_mask] = background_value\n",
    "    return label_tensor[None]"
   ]
  },
  {
   "cell_type": "code",
   "execution_count": 193,
   "metadata": {},
   "outputs": [
    {
     "data": {
      "application/vnd.jupyter.widget-view+json": {
       "model_id": "846fabaa12014098b8ac749669edecf9",
       "version_major": 2,
       "version_minor": 0
      },
      "text/plain": [
       "interactive(children=(IntSlider(value=0, description='Slice Index:', max=19), Output()), _dom_classes=('widget…"
      ]
     },
     "metadata": {},
     "output_type": "display_data"
    }
   ],
   "source": [
    "\n",
    "titles = [\"U-MambaBot\",\"U-MambaBot MTL\", \"Swin UNETR\", \"Swin UNETR MTL\", \"Ground Truth\"]\n",
    "labels = [*preds, label]\n",
    "labels = [one_hot_to_label(x) for x in labels]\n",
    "\n",
    "slice_comparison(img[0][None], labels, titles)\n",
    "# slice_comparison(img[0][None], [pred[0][None], label[0][None]], [\"pred\", \"label\"])"
   ]
  },
  {
   "cell_type": "code",
   "execution_count": 194,
   "metadata": {},
   "outputs": [],
   "source": [
    "\n",
    "# labels = torch.argmax(pred, dim=0)\n",
    "\n",
    "# volume_slice_plotter(labels, one_hot_to_label(pred))"
   ]
  }
 ],
 "metadata": {
  "kernelspec": {
   "display_name": "umamba",
   "language": "python",
   "name": "python3"
  },
  "language_info": {
   "codemirror_mode": {
    "name": "ipython",
    "version": 3
   },
   "file_extension": ".py",
   "mimetype": "text/x-python",
   "name": "python",
   "nbconvert_exporter": "python",
   "pygments_lexer": "ipython3",
   "version": "3.10.14"
  }
 },
 "nbformat": 4,
 "nbformat_minor": 2
}
